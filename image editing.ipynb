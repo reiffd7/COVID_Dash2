{
 "cells": [
  {
   "cell_type": "code",
   "execution_count": 122,
   "metadata": {},
   "outputs": [],
   "source": [
    "from PIL import Image\n",
    "import requests\n",
    "from io import BytesIO\n",
    "import numpy as np\n",
    "import json"
   ]
  },
  {
   "cell_type": "code",
   "execution_count": 123,
   "metadata": {},
   "outputs": [],
   "source": [
    "\n",
    "with open('web_scraping/states.json', 'r') as f:\n",
    "    states = json.load(f)\n",
    "stateAbbrevs = {v: k for k,v in states.items()}"
   ]
  },
  {
   "cell_type": "code",
   "execution_count": 136,
   "metadata": {},
   "outputs": [
    {
     "data": {
      "text/plain": [
       "{'AL': 'https://geology.com/state-map/maps/alabama-county-map.gif',\n",
       " 'AK': 'https://geology.com/state-map/maps/alaska-county-map.gif',\n",
       " 'AS': 'https://geology.com/state-map/maps/american-samoa-county-map.gif',\n",
       " 'AZ': 'https://geology.com/state-map/maps/arizona-county-map.gif',\n",
       " 'AR': 'https://geology.com/state-map/maps/arkansas-county-map.gif',\n",
       " 'CA': 'https://geology.com/state-map/maps/california-county-map.gif',\n",
       " 'CO': 'https://geology.com/state-map/maps/colorado-county-map.gif',\n",
       " 'CT': 'https://geology.com/state-map/maps/connecticut-county-map.gif',\n",
       " 'DE': 'https://geology.com/state-map/maps/delaware-county-map.gif',\n",
       " 'DC': 'https://geology.com/state-map/maps/district-of-columbia-county-map.gif',\n",
       " 'FL': 'https://geology.com/state-map/maps/florida-county-map.gif',\n",
       " 'GA': 'https://geology.com/state-map/maps/georgia-county-map.gif',\n",
       " 'GU': 'https://geology.com/state-map/maps/guam-county-map.gif',\n",
       " 'HI': 'https://geology.com/state-map/maps/hawaii-county-map.gif',\n",
       " 'ID': 'https://geology.com/state-map/maps/idaho-county-map.gif',\n",
       " 'IL': 'https://geology.com/state-map/maps/illinois-county-map.gif',\n",
       " 'IN': 'https://geology.com/state-map/maps/indiana-county-map.gif',\n",
       " 'IA': 'https://geology.com/state-map/maps/iowa-county-map.gif',\n",
       " 'KS': 'https://geology.com/state-map/maps/kansas-county-map.gif',\n",
       " 'KY': 'https://geology.com/state-map/maps/kentucky-county-map.gif',\n",
       " 'LA': 'https://geology.com/state-map/maps/louisiana-county-map.gif',\n",
       " 'ME': 'https://geology.com/state-map/maps/maine-county-map.gif',\n",
       " 'MD': 'https://geology.com/state-map/maps/maryland-county-map.gif',\n",
       " 'MA': 'https://geology.com/state-map/maps/massachusetts-county-map.gif',\n",
       " 'MI': 'https://geology.com/state-map/maps/michigan-county-map.gif',\n",
       " 'MN': 'https://geology.com/state-map/maps/minnesota-county-map.gif',\n",
       " 'MS': 'https://geology.com/state-map/maps/mississippi-county-map.gif',\n",
       " 'MO': 'https://geology.com/state-map/maps/missouri-county-map.gif',\n",
       " 'MT': 'https://geology.com/state-map/maps/montana-county-map.gif',\n",
       " 'NE': 'https://geology.com/state-map/maps/nebraska-county-map.gif',\n",
       " 'NV': 'https://geology.com/state-map/maps/nevada-county-map.gif',\n",
       " 'NH': 'https://geology.com/state-map/maps/new-hampshire-county-map.gif',\n",
       " 'NJ': 'https://geology.com/state-map/maps/new-jersey-county-map.gif',\n",
       " 'NM': 'https://geology.com/state-map/maps/new-mexico-county-map.gif',\n",
       " 'NY': 'https://geology.com/state-map/maps/new-york-county-map.gif',\n",
       " 'NC': 'https://geology.com/state-map/maps/north-carolina-county-map.gif',\n",
       " 'ND': 'https://geology.com/state-map/maps/north-dakota-county-map.gif',\n",
       " 'MP': 'https://geology.com/state-map/maps/northern-mariana-islands-county-map.gif',\n",
       " 'OH': 'https://geology.com/state-map/maps/ohio-county-map.gif',\n",
       " 'OK': 'https://geology.com/state-map/maps/oklahoma-county-map.gif',\n",
       " 'OR': 'https://geology.com/state-map/maps/oregon-county-map.gif',\n",
       " 'PA': 'https://geology.com/state-map/maps/pennsylvania-county-map.gif',\n",
       " 'PR': 'https://geology.com/state-map/maps/puerto-rico-county-map.gif',\n",
       " 'RI': 'https://geology.com/state-map/maps/rhode-island-county-map.gif',\n",
       " 'SC': 'https://geology.com/state-map/maps/south-carolina-county-map.gif',\n",
       " 'SD': 'https://geology.com/state-map/maps/south-dakota-county-map.gif',\n",
       " 'TN': 'https://geology.com/state-map/maps/tennessee-county-map.gif',\n",
       " 'TX': 'https://geology.com/state-map/maps/texas-county-map.gif',\n",
       " 'UT': 'https://geology.com/state-map/maps/utah-county-map.gif',\n",
       " 'VT': 'https://geology.com/state-map/maps/vermont-county-map.gif',\n",
       " 'VI': 'https://geology.com/state-map/maps/virgin-islands-county-map.gif',\n",
       " 'VA': 'https://geology.com/state-map/maps/virginia-county-map.gif',\n",
       " 'WA': 'https://geology.com/state-map/maps/washington-county-map.gif',\n",
       " 'WV': 'https://geology.com/state-map/maps/west-virginia-county-map.gif',\n",
       " 'WI': 'https://geology.com/state-map/maps/wisconsin-county-map.gif',\n",
       " 'WY': 'https://geology.com/state-map/maps/wyoming-county-map.gif'}"
      ]
     },
     "execution_count": 136,
     "metadata": {},
     "output_type": "execute_result"
    }
   ],
   "source": [
    "StateFlags"
   ]
  },
  {
   "cell_type": "code",
   "execution_count": 135,
   "metadata": {},
   "outputs": [
    {
     "data": {
      "text/plain": [
       "{'AL': 'https://geology.com/state-map/maps/alabama-county-map.gif',\n",
       " 'AK': 'https://geology.com/state-map/maps/alaska-county-map.gif',\n",
       " 'AS': 'https://geology.com/state-map/maps/american-samoa-county-map.gif',\n",
       " 'AZ': 'https://geology.com/state-map/maps/arizona-county-map.gif',\n",
       " 'AR': 'https://geology.com/state-map/maps/arkansas-county-map.gif',\n",
       " 'CA': 'https://geology.com/state-map/maps/california-county-map.gif',\n",
       " 'CO': 'https://geology.com/state-map/maps/colorado-county-map.gif',\n",
       " 'CT': 'https://geology.com/state-map/maps/connecticut-county-map.gif',\n",
       " 'DE': 'https://geology.com/state-map/maps/delaware-county-map.gif',\n",
       " 'DC': 'https://geology.com/state-map/maps/district-of-columbia-county-map.gif',\n",
       " 'FL': 'https://geology.com/state-map/maps/florida-county-map.gif',\n",
       " 'GA': 'https://geology.com/state-map/maps/georgia-county-map.gif',\n",
       " 'GU': 'https://geology.com/state-map/maps/guam-county-map.gif',\n",
       " 'HI': 'https://geology.com/state-map/maps/hawaii-county-map.gif',\n",
       " 'ID': 'https://geology.com/state-map/maps/idaho-county-map.gif',\n",
       " 'IL': 'https://geology.com/state-map/maps/illinois-county-map.gif',\n",
       " 'IN': 'https://geology.com/state-map/maps/indiana-county-map.gif',\n",
       " 'IA': 'https://geology.com/state-map/maps/iowa-county-map.gif',\n",
       " 'KS': 'https://geology.com/state-map/maps/kansas-county-map.gif',\n",
       " 'KY': 'https://geology.com/state-map/maps/kentucky-county-map.gif',\n",
       " 'LA': 'https://geology.com/state-map/maps/louisiana-county-map.gif',\n",
       " 'ME': 'https://geology.com/state-map/maps/maine-county-map.gif',\n",
       " 'MD': 'https://geology.com/state-map/maps/maryland-county-map.gif',\n",
       " 'MA': 'https://geology.com/state-map/maps/massachusetts-county-map.gif',\n",
       " 'MI': 'https://geology.com/state-map/maps/michigan-county-map.gif',\n",
       " 'MN': 'https://geology.com/state-map/maps/minnesota-county-map.gif',\n",
       " 'MS': 'https://geology.com/state-map/maps/mississippi-county-map.gif',\n",
       " 'MO': 'https://geology.com/state-map/maps/missouri-county-map.gif',\n",
       " 'MT': 'https://geology.com/state-map/maps/montana-county-map.gif',\n",
       " 'NE': 'https://geology.com/state-map/maps/nebraska-county-map.gif',\n",
       " 'NV': 'https://geology.com/state-map/maps/nevada-county-map.gif',\n",
       " 'NH': 'https://geology.com/state-map/maps/new-hampshire-county-map.gif',\n",
       " 'NJ': 'https://geology.com/state-map/maps/new-jersey-county-map.gif',\n",
       " 'NM': 'https://geology.com/state-map/maps/new-mexico-county-map.gif',\n",
       " 'NY': 'https://geology.com/state-map/maps/new-york-county-map.gif',\n",
       " 'NC': 'https://geology.com/state-map/maps/north-carolina-county-map.gif',\n",
       " 'ND': 'https://geology.com/state-map/maps/north-dakota-county-map.gif',\n",
       " 'MP': 'https://geology.com/state-map/maps/northern-mariana-islands-county-map.gif',\n",
       " 'OH': 'https://geology.com/state-map/maps/ohio-county-map.gif',\n",
       " 'OK': 'https://geology.com/state-map/maps/oklahoma-county-map.gif',\n",
       " 'OR': 'https://geology.com/state-map/maps/oregon-county-map.gif',\n",
       " 'PA': 'https://geology.com/state-map/maps/pennsylvania-county-map.gif',\n",
       " 'PR': 'https://geology.com/state-map/maps/puerto-rico-county-map.gif',\n",
       " 'RI': 'https://geology.com/state-map/maps/rhode-island-county-map.gif',\n",
       " 'SC': 'https://geology.com/state-map/maps/south-carolina-county-map.gif',\n",
       " 'SD': 'https://geology.com/state-map/maps/south-dakota-county-map.gif',\n",
       " 'TN': 'https://geology.com/state-map/maps/tennessee-county-map.gif',\n",
       " 'TX': 'https://geology.com/state-map/maps/texas-county-map.gif',\n",
       " 'UT': 'https://geology.com/state-map/maps/utah-county-map.gif',\n",
       " 'VT': 'https://geology.com/state-map/maps/vermont-county-map.gif',\n",
       " 'VI': 'https://geology.com/state-map/maps/virgin-islands-county-map.gif',\n",
       " 'VA': 'https://geology.com/state-map/maps/virginia-county-map.gif',\n",
       " 'WA': 'https://geology.com/state-map/maps/washington-county-map.gif',\n",
       " 'WV': 'https://geology.com/state-map/maps/west-virginia-county-map.gif',\n",
       " 'WI': 'https://geology.com/state-map/maps/wisconsin-county-map.gif',\n",
       " 'WY': 'https://geology.com/state-map/maps/wyoming-county-map.gif'}"
      ]
     },
     "execution_count": 135,
     "metadata": {},
     "output_type": "execute_result"
    }
   ],
   "source": [
    "StateFlags = {k: 'https://geology.com/state-map/maps/{}-county-map.gif'.format(v.replace(' ', '-').lower()) for k,v in stateAbbrevs.items()}\n",
    "urls = list(StateFlags.values())\n",
    "StateFlags"
   ]
  },
  {
   "cell_type": "code",
   "execution_count": 146,
   "metadata": {},
   "outputs": [
    {
     "name": "stdout",
     "output_type": "stream",
     "text": [
      "https://geology.com/state-map/maps/alabama-county-map.gif\n"
     ]
    },
    {
     "name": "stderr",
     "output_type": "stream",
     "text": [
      "IOPub data rate exceeded.\n",
      "The notebook server will temporarily stop sending output\n",
      "to the client in order to avoid crashing it.\n",
      "To change this limit, set the config variable\n",
      "`--NotebookApp.iopub_data_rate_limit`.\n",
      "\n",
      "Current values:\n",
      "NotebookApp.iopub_data_rate_limit=1000000.0 (bytes/sec)\n",
      "NotebookApp.rate_limit_window=3.0 (secs)\n",
      "\n"
     ]
    },
    {
     "name": "stdout",
     "output_type": "stream",
     "text": [
      "https://geology.com/state-map/maps/arizona-county-map.gif\n"
     ]
    },
    {
     "name": "stderr",
     "output_type": "stream",
     "text": [
      "IOPub data rate exceeded.\n",
      "The notebook server will temporarily stop sending output\n",
      "to the client in order to avoid crashing it.\n",
      "To change this limit, set the config variable\n",
      "`--NotebookApp.iopub_data_rate_limit`.\n",
      "\n",
      "Current values:\n",
      "NotebookApp.iopub_data_rate_limit=1000000.0 (bytes/sec)\n",
      "NotebookApp.rate_limit_window=3.0 (secs)\n",
      "\n"
     ]
    },
    {
     "ename": "TypeError",
     "evalue": "too many data entries",
     "output_type": "error",
     "traceback": [
      "\u001b[0;31m---------------------------------------------------------------------------\u001b[0m",
      "\u001b[0;31mTypeError\u001b[0m                                 Traceback (most recent call last)",
      "\u001b[0;32m<ipython-input-146-5dac5c0e4cd6>\u001b[0m in \u001b[0;36m<module>\u001b[0;34m()\u001b[0m\n\u001b[1;32m     13\u001b[0m             \u001b[0;32melse\u001b[0m\u001b[0;34m:\u001b[0m\u001b[0;34m\u001b[0m\u001b[0m\n\u001b[1;32m     14\u001b[0m                 \u001b[0mnewData\u001b[0m\u001b[0;34m.\u001b[0m\u001b[0mappend\u001b[0m\u001b[0;34m(\u001b[0m\u001b[0mitem\u001b[0m\u001b[0;34m)\u001b[0m\u001b[0;34m\u001b[0m\u001b[0m\n\u001b[0;32m---> 15\u001b[0;31m         \u001b[0mimg\u001b[0m\u001b[0;34m.\u001b[0m\u001b[0mputdata\u001b[0m\u001b[0;34m(\u001b[0m\u001b[0mnewData\u001b[0m\u001b[0;34m)\u001b[0m\u001b[0;34m\u001b[0m\u001b[0m\n\u001b[0m\u001b[1;32m     16\u001b[0m         \u001b[0mprint\u001b[0m\u001b[0;34m(\u001b[0m\u001b[0mnewData\u001b[0m\u001b[0;34m)\u001b[0m\u001b[0;34m\u001b[0m\u001b[0m\n\u001b[1;32m     17\u001b[0m \u001b[0;31m#     print(Image.open(BytesIO(response.content)))\u001b[0m\u001b[0;34m\u001b[0m\u001b[0;34m\u001b[0m\u001b[0m\n",
      "\u001b[0;32m~/anaconda3/lib/python3.7/site-packages/PIL/Image.py\u001b[0m in \u001b[0;36mputdata\u001b[0;34m(self, data, scale, offset)\u001b[0m\n\u001b[1;32m   1579\u001b[0m         \u001b[0mself\u001b[0m\u001b[0;34m.\u001b[0m\u001b[0m_ensure_mutable\u001b[0m\u001b[0;34m(\u001b[0m\u001b[0;34m)\u001b[0m\u001b[0;34m\u001b[0m\u001b[0m\n\u001b[1;32m   1580\u001b[0m \u001b[0;34m\u001b[0m\u001b[0m\n\u001b[0;32m-> 1581\u001b[0;31m         \u001b[0mself\u001b[0m\u001b[0;34m.\u001b[0m\u001b[0mim\u001b[0m\u001b[0;34m.\u001b[0m\u001b[0mputdata\u001b[0m\u001b[0;34m(\u001b[0m\u001b[0mdata\u001b[0m\u001b[0;34m,\u001b[0m \u001b[0mscale\u001b[0m\u001b[0;34m,\u001b[0m \u001b[0moffset\u001b[0m\u001b[0;34m)\u001b[0m\u001b[0;34m\u001b[0m\u001b[0m\n\u001b[0m\u001b[1;32m   1582\u001b[0m \u001b[0;34m\u001b[0m\u001b[0m\n\u001b[1;32m   1583\u001b[0m     \u001b[0;32mdef\u001b[0m \u001b[0mputpalette\u001b[0m\u001b[0;34m(\u001b[0m\u001b[0mself\u001b[0m\u001b[0;34m,\u001b[0m \u001b[0mdata\u001b[0m\u001b[0;34m,\u001b[0m \u001b[0mrawmode\u001b[0m\u001b[0;34m=\u001b[0m\u001b[0;34m\"RGB\"\u001b[0m\u001b[0;34m)\u001b[0m\u001b[0;34m:\u001b[0m\u001b[0;34m\u001b[0m\u001b[0m\n",
      "\u001b[0;31mTypeError\u001b[0m: too many data entries"
     ]
    }
   ],
   "source": [
    "for key, value in StateFlags.items():\n",
    "    print(value)\n",
    "    response = requests.get(value)\n",
    "    if response.status_code == 200:\n",
    "        img = Image.open(BytesIO(response.content))\n",
    "        img = img.convert('RGB')\n",
    "        img = img.convert('RGB')\n",
    "        newData = []\n",
    "        newData = []\n",
    "        for item in datas:\n",
    "            if (item[2] == 255):\n",
    "                newData.append((50, 56, 62))\n",
    "            else:\n",
    "                newData.append(item)\n",
    "        img.putdata(newData)\n",
    "        print(newData)\n",
    "#     print(Image.open(BytesIO(response.content)))\n",
    "#     try:\n",
    "#         response = requests.get(value)\n",
    "#         print(response)\n",
    "#         img = Image.open(BytesIO(response.content))\n",
    "#         print('response failed')\n",
    "#         img = img.convert('RGB')\n",
    "#         img = img.convert('RGB')\n",
    "#         newData = []\n",
    "#         newData = []\n",
    "#         for item in datas:\n",
    "#             if (item[2] == 255):\n",
    "#                 newData.append((50, 56, 62))\n",
    "#             else:\n",
    "#                 newData.append(item)\n",
    "#         img.putdata(newData)\n",
    "#         try:\n",
    "#             imgs.save('utils/state_imgs/{}.png'.format(key))\n",
    "#         except:\n",
    "#             print('save failed')\n",
    "#     except:\n",
    "#         print(url)\n",
    "        "
   ]
  },
  {
   "cell_type": "code",
   "execution_count": 112,
   "metadata": {},
   "outputs": [],
   "source": []
  },
  {
   "cell_type": "code",
   "execution_count": 113,
   "metadata": {},
   "outputs": [],
   "source": [
    "img.show()"
   ]
  },
  {
   "cell_type": "code",
   "execution_count": 114,
   "metadata": {},
   "outputs": [],
   "source": [
    "datas = img.getdata()"
   ]
  },
  {
   "cell_type": "code",
   "execution_count": 115,
   "metadata": {},
   "outputs": [],
   "source": []
  },
  {
   "cell_type": "code",
   "execution_count": 116,
   "metadata": {},
   "outputs": [],
   "source": [
    "newData = []\n",
    "for item in datas:\n",
    "    if (item[2] == 255):\n",
    "        newData.append((50, 56, 62))\n",
    "    else:\n",
    "        newData.append(item)"
   ]
  },
  {
   "cell_type": "code",
   "execution_count": 117,
   "metadata": {},
   "outputs": [],
   "source": [
    "img.putdata(newData)"
   ]
  },
  {
   "cell_type": "code",
   "execution_count": 118,
   "metadata": {},
   "outputs": [],
   "source": [
    "img.save(\"img2.png\", \"PNG\")"
   ]
  },
  {
   "cell_type": "code",
   "execution_count": 119,
   "metadata": {},
   "outputs": [],
   "source": [
    "data = np.array(newData)"
   ]
  },
  {
   "cell_type": "code",
   "execution_count": 120,
   "metadata": {},
   "outputs": [],
   "source": [
    "A = data[:, 0]"
   ]
  },
  {
   "cell_type": "code",
   "execution_count": 121,
   "metadata": {},
   "outputs": [
    {
     "data": {
      "text/plain": [
       "<ImagingCore at 0x10cc95070>"
      ]
     },
     "execution_count": 121,
     "metadata": {},
     "output_type": "execute_result"
    }
   ],
   "source": [
    "StateFlags = {k: 'https://geology.com/state-map/maps/{}-county-map.gif'.format(v.replace(' ', '-').lower()) for k,v in stateAbbrevs.items()}"
   ]
  },
  {
   "cell_type": "code",
   "execution_count": 124,
   "metadata": {},
   "outputs": [],
   "source": []
  },
  {
   "cell_type": "code",
   "execution_count": null,
   "metadata": {},
   "outputs": [],
   "source": [
    "StateFlags = {k: 'https://geology.com/state-map/maps/{}-county-map.gif'.format(v.replace(' ', '-').lower()) for k,v in stateAbbrevs.items()}\n"
   ]
  }
 ],
 "metadata": {
  "kernelspec": {
   "display_name": "Python 3",
   "language": "python",
   "name": "python3"
  },
  "language_info": {
   "codemirror_mode": {
    "name": "ipython",
    "version": 3
   },
   "file_extension": ".py",
   "mimetype": "text/x-python",
   "name": "python",
   "nbconvert_exporter": "python",
   "pygments_lexer": "ipython3",
   "version": "3.7.0"
  }
 },
 "nbformat": 4,
 "nbformat_minor": 2
}
